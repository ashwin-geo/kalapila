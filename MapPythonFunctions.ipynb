{
 "cells": [
  {
   "cell_type": "code",
   "execution_count": null,
   "id": "d2dd0155",
   "metadata": {},
   "outputs": [],
   "source": [
    "python_file_name = 'map_function_calls_2_canvas'\n",
    "\n",
    "target_dir='TheVault'\n",
    "\n",
    "python_file = python_file_name+'.py'\n",
    "canvas_file = python_file_name+'.canvas'"
   ]
  },
  {
   "cell_type": "code",
   "execution_count": null,
   "id": "81ddd106",
   "metadata": {},
   "outputs": [],
   "source": [
    "import map_function_calls_2_canvas as py2c"
   ]
  },
  {
   "cell_type": "code",
   "execution_count": null,
   "id": "7ca93ec2",
   "metadata": {},
   "outputs": [],
   "source": [
    "py2c.generate_canvas_for_python_file_coloured(python_file=python_file,\n",
    "                                              canvas_file=canvas_file,\n",
    "                                              max_func_call=5,\n",
    "                                              dir=target_dir,\n",
    "                                              update_layout=False,\n",
    "                                              levels_iters=10)"
   ]
  },
  {
   "cell_type": "code",
   "execution_count": null,
   "id": "2455d892",
   "metadata": {},
   "outputs": [],
   "source": []
  },
  {
   "cell_type": "code",
   "execution_count": null,
   "id": "ca4194ed",
   "metadata": {},
   "outputs": [],
   "source": []
  }
 ],
 "metadata": {
  "kernelspec": {
   "display_name": "Python 3 (ipykernel)",
   "language": "python",
   "name": "python3"
  },
  "language_info": {
   "codemirror_mode": {
    "name": "ipython",
    "version": 3
   },
   "file_extension": ".py",
   "mimetype": "text/x-python",
   "name": "python",
   "nbconvert_exporter": "python",
   "pygments_lexer": "ipython3",
   "version": "3.8.8"
  }
 },
 "nbformat": 4,
 "nbformat_minor": 5
}